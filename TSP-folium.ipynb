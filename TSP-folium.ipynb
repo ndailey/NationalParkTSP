{
 "cells": [
  {
   "cell_type": "code",
   "execution_count": 6,
   "metadata": {
    "collapsed": false
   },
   "outputs": [],
   "source": [
    "# Map the TSP result using folium library\n",
    "\n",
    "import json, folium, os\n",
    "\n",
    "# set directories to result and line .json files\n",
    "resultpath = os.path.join(os.getcwd(), 'TSP/tsp_result.json')\n",
    "linepath = os.path.join(os.getcwd(), 'TSP/tsp_line.json')\n",
    "\n",
    "# initiate map\n",
    "tsp_map = folium.Map(location=[39.50, -98.35],\n",
    "                   tiles='Stamen Toner', zoom_start=4)\n",
    "\n",
    "# open .json with TSP result\n",
    "with open(resultpath) as f:\n",
    "    parks = json.load(f)\n",
    "\n",
    "# call features from .json to populate popups\n",
    "for feature in parks['features']:\n",
    "    lon, lat = feature['geometry']['coordinates']\n",
    "    name = feature['properties']['Name']\n",
    "    marker = folium.Marker([lat, lon], popup = folium.Popup(name))\n",
    "    tsp_map.add_children(marker)\n",
    "\n",
    "# add TSP line\n",
    "folium.GeoJson(open(linepath),\n",
    "               name='Traveling Salesman Path').add_to(tsp_map)\n",
    "\n",
    "# save TSP web map and open in browser\n",
    "tsp_map.save('tsp_folium.html')"
   ]
  }
 ],
 "metadata": {
  "kernelspec": {
   "display_name": "Python 3",
   "language": "python",
   "name": "python3"
  },
  "language_info": {
   "codemirror_mode": {
    "name": "ipython",
    "version": 3
   },
   "file_extension": ".py",
   "mimetype": "text/x-python",
   "name": "python",
   "nbconvert_exporter": "python",
   "pygments_lexer": "ipython3",
   "version": "3.5.1"
  }
 },
 "nbformat": 4,
 "nbformat_minor": 0
}
