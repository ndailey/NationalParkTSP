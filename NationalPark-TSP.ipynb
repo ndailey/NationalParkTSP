{
 "cells": [
  {
   "cell_type": "markdown",
   "metadata": {},
   "source": [
    "# The Traveling Salesman Problem: National Parks Edition\n",
    "#### Naomi Dailey | ABT 182 Final Project\n",
    "\n",
    "\n",
    "\n",
    "## Overview\n",
    "\n",
    "The Traveling Salesman Problem (TSP) is one of the most famous problems in computer science. It analyzes the age-old question of determining optimal spatial paths between many locations (Hoffman et al., 2013). Specifically, the TSP asks: \n",
    "\n",
    "> Given a list of points and the distances between them, what is the shortest path that visits each city once and returns to the origin?\n",
    "\n",
    "The TSP is based on the historical traveling salesman of [Willy Loman](https://en.wikipedia.org/wiki/Willy_Loman) fame. Individuals traveled door-to-door, enticing residents to purchase Cutco knives, Tupperware, vaccuums, and the like. Salesmen like Willy had to carefully plan an efficient route from city to city--the shorter the route the better. \n",
    "\n",
    "This conundrum seduced computer scientists because of how computationally expensive it can be. To search for the optimal path for all possibilities among *n* points is more difficult the more points you have. In computer science, this is known as an O(n!) (or 'Big O') notation algorithm (Google Developers, 2015). Thus, an automation problem was born."
   ]
  },
  {
   "cell_type": "markdown",
   "metadata": {},
   "source": [
    "## Problem\n",
    "\n",
    "Instead of the shortest distance between cities, this project will enable the user to find the shortest distances between any points with longitude and latitude values. In the example presented here, I use coordinates for U.S. National Parks scraped from [Wikipedia](https://en.wikipedia.org/wiki/List_of_areas_in_the_United_States_National_Park_System#National_parks), but you could substitute these with any web scraped points. Alternatively, you could skip the web scraping and provide a .csv with your points.\n",
    "\n",
    "You may be thinking, *doesn't [Google Maps](https://developers.google.com/maps/documentation/directions/) already do this?* The answer is yes, but only to a point (haha). Google Maps Directions API provides superb applications for  paths between [waypoints](https://developers.google.com/maps/documentation/directions/intro#Waypoints), but limits the user to 23 such points. This leaves much to be desired if you have a long list of destinations you want to hit, like my epic National Park road trip. By inputting user-specified points with associated coordinate values, this project returns the optimal itinerant route via Euclidean distance, with possible expansion to driving distance and time (in progress)."
   ]
  },
  {
   "cell_type": "markdown",
   "metadata": {},
   "source": [
    "## Concepts\n",
    "\n",
    "While the TSP is relatively easy to describe, it remains a delightful thought experiment because it is so computationally expensive to solve. Hoffman et al. (2013) describe the TSP as part of a larger group of problems that are known as [combinatorial optimization problems](https://en.wikipedia.org/wiki/Combinatorial_optimization). Specifically, the TSP is classified as *NP*-complete, meaning that if someone could write an efficient algorithm for the TSP, then all other *NP*-complete problems could also be solved with similarly efficient solutions (Hoffman et al., 2013).\n",
    "\n",
    "#### Brute Force\n",
    "\n",
    "To solve an *NP*-complete problem by brute force isn't really feasible. [Mihailo Lalevic](http://www.digitalmihailo.com/traveling-salesman-problem-dynamic-algorithm-implementation-in-python/) wrote a Python script that shows the relationship between number of points and processing time; when you reach 22 points, the performance declines immensely because of memory usage (and takes over 10 minutes!). If I were to try to solve my National Parks problem by brute force, the number of permutations of possible routes is staggering: "
   ]
  },
  {
   "cell_type": "code",
   "execution_count": 1,
   "metadata": {
    "collapsed": false
   },
   "outputs": [
    {
     "data": {
      "text/plain": [
       "2658271574788448768043625811014615890319638528000000000"
      ]
     },
     "execution_count": 1,
     "metadata": {},
     "output_type": "execute_result"
    }
   ],
   "source": [
    "import math\n",
    "math.factorial(44)"
   ]
  },
  {
   "cell_type": "markdown",
   "metadata": {},
   "source": [
    "That's a lot of potential routes. So maybe brute force is not the best solution for my road trip--I'd like to spend more time travelling than actually planning my excursion!\n",
    "\n",
    "#### Christofides Algorithm\n",
    "\n",
    "Fortunately, others have created computer programs and algorithms to make the TSP easy for amateurs like myself. Many solutions to the TSP reference [Christofides algorithm](https://en.wikipedia.org/wiki/Christofides_algorithm) (1976), which finds approximate solutions to the TSP based on instances where distances are symmetric and obey the triangle equality concept. This algorithm guarantees that its solutions will be within a factor of 1.5 of the optimal solution length.\n",
    "\n",
    "\n",
    "\n",
    "#### Traveling Telsa Salesman\n",
    "\n",
    "Mortada Meyhar found that the [Concorde computer program](http://www.math.uwaterloo.ca/tsp/concorde.html) for the TSP (Version 3.12.19, University of Waterloo) could find the exact optimal path between Tesla supercharger stations, without approximation. Concorde does this using branch-and-bound algorithms: \"when the algorithm branches out to search for the optimum, many of the permutations can actually be safely cut short if it is impossible for a branch to result in a value better than a known better solution\" (Mehyar, 2015). Mehyar has created a helpful example of the optimal driving path between [Tesla supercharger stations](http://mortada.net/the-traveling-tesla-salesman.html#Optimal-Path-for-Supercharger-Traveling), built with the Google Maps Directions API."
   ]
  },
  {
   "cell_type": "markdown",
   "metadata": {},
   "source": [
    "# Solving the TSP\n",
    "I'll be emulating Meyhar's method to find the optimum path (as the crow flies) through my National Park coordinates. Below I'll go through each step, provide the code and outputs, and do my best to make the script as generalizable as possible. Please note that this markdown file and the script were written using the [iPython Notebook](https://ipython.org), so there are some weird magic commands at the top of some of the cells. Other tools I used to solve the TSP and create web maps included:\n",
    "* [Concorde](http://www.math.uwaterloo.ca/tsp/concorde/index.html) (Mac installations [here](http://wiki.evilmadscientist.com/Obtaining_a_TSP_solver))\n",
    "* [QSOPT](http://www.math.uwaterloo.ca/~bico/qsopt/) (Mac installations [here](http://www.math.uwaterloo.ca/~bico//qsopt/beta/index.html))\n",
    "* [Leaflet](http://leafletjs.com) (Install directions [here](http://leafletjs.com/download.html))\n",
    "* Command line (Great tutorial [here](https://www.codecademy.com/learn/learn-the-command-line))\n",
    "* Text editor (I used [TextWrangler](https://itunes.apple.com/us/app/textwrangler/id404010395?mt=12) for web map HTML editing, but any will do)\n",
    "\n",
    "## Set-Up\n",
    "This project was written in Python 3.5, which may cause problems if you are running other versions (modules like numpy and pandas are version-specific). Below are the modules necessary to complete this script, as well as a simple folder structure to organize the project. Please note that some of the modules (e.g., `pandas` and `numpy`) require command line installation using  `pip install`. Please place the `Dailey_FinalProject` folder on your desktop so the working directory is defined correctly."
   ]
  },
  {
   "cell_type": "code",
   "execution_count": 1,
   "metadata": {
    "collapsed": false
   },
   "outputs": [
    {
     "name": "stderr",
     "output_type": "stream",
     "text": [
      "Failed `CDLL(/opt/local/lib/libgeos_c.dylib)`\n",
      "WARNING:shapely.geos:Failed `CDLL(/opt/local/lib/libgeos_c.dylib)`\n"
     ]
    }
   ],
   "source": [
    "%matplotlib inline\n",
    "import bs4, re, requests, json, os, csv\n",
    "import matplotlib.pyplot as plt\n",
    "import numpy as npy\n",
    "import pandas as pd\n",
    "from geojson import Feature, Point, FeatureCollection, LineString\n",
    "from shapely.geometry import Point, mapping"
   ]
  },
  {
   "cell_type": "code",
   "execution_count": 2,
   "metadata": {
    "collapsed": false
   },
   "outputs": [],
   "source": [
    "# set working directory and results path to '/Dailey_FinalProject'\n",
    "path = os.path.join(os.getcwd(), \"Desktop/Dailey_FinalProject\")\n",
    "outpath = os.path.join(path, \"Results\")\n",
    "if not os.path.exists(outpath): os.mkdir(outpath)\n",
    "\n",
    "# moves the map .html document into your results folder\n",
    "map_oldpath = os.path.join(path, \"TSP_webmap.html\")\n",
    "map_newpath = os.path.join(outpath, \"TSP_webmap.html\")\n",
    "os.rename(map_oldpath, map_newpath)"
   ]
  },
  {
   "cell_type": "markdown",
   "metadata": {},
   "source": [
    "## Getting Latitude + Longitude\n",
    "There are two options here for getting the latitude and longitude inputs: web scraping or importing .csv files. First, I'll go through the process of web scraping, which is of particular interest to me. Second, I will provide a way for the user to import her own .csv file as a dictionary of coordinate pairs. \n",
    "\n",
    "### Option 1: Web Scraping\n",
    "\n",
    "Before this project, web scraping data was a mystery to me, fit only for the most talented programmers. Enter: BeautifulSoup. This is a fantastic web scraping library that makes it easy to identify and parse your data from HTML source code. Note that for Mac, I had to enable the [Safari Web Inspector](https://developer.apple.com/library/safari/documentation/AppleApplications/Conceptual/Safari_Developer_Guide/Introduction/Introduction.html) to access the source code for a web page. I did have to scour the source code for tags that matched the coordinates I wanted, but the Web Inspector made it easy to identify which HTML tags to look for.\n",
    "\n",
    "For the record, your method of web scraping will change depending on the website you visit. Wikipedia HTML *tends* to be structured similarly between pages, but the tags you use and geospatial format of your points will change depending on the web page. For example, I can easily fetch latitude and longitude coordinates for the [tallest peaks](https://en.wikipedia.org/wiki/List_of_the_highest_major_summits_of_the_United_States) in the U.S. using the method outlined below, but if I want to scrape [Peet's street addresses](http://www.peets.com/stores/peets-stores/stores-store-list.html) for a cup of coffee, the tags and geocoding will be different. (Note that some of the modules below require installation from the Terminal.)\n",
    "\n",
    "Getting the URL (and the source code) you want is a relatively simple affair. Getting the right spatial reference for your points (e.g., coordinates, addresses) is a different matter. Here I used the Wikipedia page for U.S. National Parks, imported the source code as text, and created a BeautifulSoup object that I can use to search for the information I want."
   ]
  },
  {
   "cell_type": "code",
   "execution_count": 3,
   "metadata": {
    "collapsed": false
   },
   "outputs": [],
   "source": [
    "def webScrapeAllHTML(myURL):\n",
    "    page = requests.get(myURL)\n",
    "    # imports the source code as text\n",
    "    content = page.text \n",
    "    # create BeautifulSoup object to search the text by tags\n",
    "    return (bs4.BeautifulSoup(content, 'lxml'))\n",
    "\n",
    "# fetch URL from Wikipedia National Parks website\n",
    "parks_url = 'https://en.wikipedia.org/wiki/List_of_national_parks_of_the_United_States'\n",
    "soup = webScrapeAllHTML(parks_url)"
   ]
  },
  {
   "cell_type": "markdown",
   "metadata": {},
   "source": [
    "The output from BeautifulSoup needs additional processing before I can continue solving the TSP. Next, I identified the coordinates from this BeautifulSoup object using tags found in the HTML source code. This required some tedious reading of HTML script to find the tags associated with the data I wanted. Finding the tags that identify each coordinate pair is an onerous task, but extracting the coordinates and appending them to a list requires a regular `for` loop. As you can see below, I put the coordinates in a list to easily form a dictionary object later."
   ]
  },
  {
   "cell_type": "code",
   "execution_count": 4,
   "metadata": {
    "collapsed": false
   },
   "outputs": [],
   "source": [
    "# identify coordinates using the tags in the webScrapeAllHTML() output\n",
    "html_coords = soup.find_all(\"span\", \"geo\")\n",
    "\n",
    "# extract coordinates from soup and cast to list\n",
    "coords = []\n",
    "for tag in html_coords:\n",
    "    lat, lon = tag.text.strip().split(';') # pulls coordinates out\n",
    "    lat, lon = float(lat), float(lon) # reformat to floats\n",
    "    latlon = [lat, lon]\n",
    "    coords.append(latlon) # create list of lat lon values"
   ]
  },
  {
   "cell_type": "markdown",
   "metadata": {},
   "source": [
    "Now that I have a list of latitude and longitude values, I can extract the corresponding National Park names for each coordinate pair. Here I've used the same methods as above, but with different HTML tags to extract names and create a list. I'll combine the names and coordinates in a dictionary later on."
   ]
  },
  {
   "cell_type": "code",
   "execution_count": 5,
   "metadata": {
    "collapsed": true
   },
   "outputs": [],
   "source": [
    "# same as above, but identify names using tags in webScrapeAllHTML() output\n",
    "html_names = soup.find_all('th', attrs = {'scope':'row'})\n",
    "\n",
    "# extract names from soup and cast to list\n",
    "names = []\n",
    "for name in html_names:\n",
    "    extract = name.text.strip()\n",
    "    names.append(extract)"
   ]
  },
  {
   "cell_type": "markdown",
   "metadata": {},
   "source": [
    "### Option 2: Importing CSV Files\n",
    "\n",
    "If the user desires, they can also use a .csv for this process. I've included a sample .csv in the `Dailey_FinalProject` folder to test this. A .csv allows for more flexibility in terms of data entry, and different types of points can be used (e.g., a mix of restaurants and coffee shops instead of only national parks). However, the script below assumes that the .csv file is in the following format: \n",
    "\n",
    "|Name | Latitude | Longitude|\n",
    "|---- | -------- | ---------|\n",
    "|Yosemite | 37.51  | -119.33|\n",
    "|Zion | 37.12  | -112.59|"
   ]
  },
  {
   "cell_type": "code",
   "execution_count": 6,
   "metadata": {
    "collapsed": false
   },
   "outputs": [
    {
     "name": "stdout",
     "output_type": "stream",
     "text": [
      "dict_keys(['Badlands', 'Yosemite', 'Zion', 'Arches', 'Acadia'])\n"
     ]
    }
   ],
   "source": [
    "# operates under assumption that  sammple.csv is in the current working directory (path)\n",
    "mycsv = 'sample.csv'\n",
    "newcsv = 'sample_new.csv'\n",
    "csvpath = os.path.join(path, mycsv) # set path to user's .csv\n",
    "\n",
    "with open(csvpath, mode = 'r') as infile:\n",
    "    reader = csv.reader(infile) # read the user's .csv\n",
    "    with open(newcsv, mode = 'w') as outfile:\n",
    "        writer = csv.writer(outfile)\n",
    "        # compile .csv rows into dictionary using dictionary comprehension\n",
    "        mydict = {rows[0]: [float(rows[1]), float(rows[2])] for rows in reader} \n",
    "print(mydict.keys())\n",
    "\n",
    "# the resulting dictionary can now be used for the rest of the script below"
   ]
  },
  {
   "cell_type": "markdown",
   "metadata": {},
   "source": [
    "## Data Formatting\n",
    "\n",
    "Now that I have a list of coordinates and a list of park names, I need to combine it in a format that is easy to reference. If you're familiar with [R](https://www.r-project.org), I was going for a data frame type of object. Fortunately, the [pandas](http://pandas.pydata.org) library is a great substitute for building and manipulating data frames. \n",
    "\n",
    "### Create Dictionary\n",
    "\n",
    "*NOTE: If you used the .csv option to import your data, you can skip this step!*\n",
    "\n",
    "First, I put the names and coordinates into a dictionary. This made it easier to eliminate parks that were not in the contiguous United States (which would make my road trip a bit more difficult). Using the dictionary, I was able to make a rough bounding box with longitude values to limit my parks. For National Parks that still fall within the longitude range, but are not in the contiguous U.S., I had to do a manual delete (e.g., Channel Islands and Dry Tortugas). "
   ]
  },
  {
   "cell_type": "code",
   "execution_count": 7,
   "metadata": {
    "collapsed": false
   },
   "outputs": [],
   "source": [
    "# NOTE: if you are using Option 2 (.csv method above) skip this step\n",
    "# make a dictionary of names with associated coordinates\n",
    "NPdict = dict(zip(names, coords))\n",
    "\n",
    "# identify parks outside of contiguous US\n",
    "keys_to_remove = []\n",
    "\n",
    "# NOTE: the following 2 loops are not combined because we cannot change the size of the dictionary while iterating\n",
    "for key in NPdict.keys():\n",
    "    if (NPdict[key][1] < -130 or NPdict[key][1] > -65):\n",
    "        keys_to_remove.append(key) # append those identified parks into a list\n",
    "\n",
    "# delete unwanted parks that lie outside of contiguous US\n",
    "for key in keys_to_remove:\n",
    "    NPdict.pop(key, None)\n",
    "\n",
    "# delete stragglers (island parks that fall within the bounding box)\n",
    "del NPdict['Channel Islands']\n",
    "del NPdict['Dry Tortugas']"
   ]
  },
  {
   "cell_type": "markdown",
   "metadata": {},
   "source": [
    "### Create Data Frame with `pandas` \n",
    "\n",
    "Finally, I made a nicely formatted data frame for our viewing pleasure. Coordinates are indexed by the National Park name, and sorted into latitude and longitude columns. If you imported your data with the .csv option, simply replace `NPdict` in the first line with the name of your dictionary `mydict`."
   ]
  },
  {
   "cell_type": "code",
   "execution_count": 8,
   "metadata": {
    "collapsed": false
   },
   "outputs": [
    {
     "data": {
      "text/html": [
       "<div>\n",
       "<table border=\"1\" class=\"dataframe\">\n",
       "  <thead>\n",
       "    <tr style=\"text-align: right;\">\n",
       "      <th></th>\n",
       "      <th>Lat</th>\n",
       "      <th>Lon</th>\n",
       "    </tr>\n",
       "  </thead>\n",
       "  <tbody>\n",
       "    <tr>\n",
       "      <th>Acadia</th>\n",
       "      <td>44.35</td>\n",
       "      <td>-68.21</td>\n",
       "    </tr>\n",
       "    <tr>\n",
       "      <th>Arches</th>\n",
       "      <td>38.68</td>\n",
       "      <td>-109.57</td>\n",
       "    </tr>\n",
       "    <tr>\n",
       "      <th>Badlands</th>\n",
       "      <td>43.75</td>\n",
       "      <td>-102.50</td>\n",
       "    </tr>\n",
       "    <tr>\n",
       "      <th>Big Bend</th>\n",
       "      <td>29.25</td>\n",
       "      <td>-103.25</td>\n",
       "    </tr>\n",
       "    <tr>\n",
       "      <th>Biscayne</th>\n",
       "      <td>25.65</td>\n",
       "      <td>-80.08</td>\n",
       "    </tr>\n",
       "  </tbody>\n",
       "</table>\n",
       "</div>"
      ],
      "text/plain": [
       "            Lat     Lon\n",
       "Acadia    44.35  -68.21\n",
       "Arches    38.68 -109.57\n",
       "Badlands  43.75 -102.50\n",
       "Big Bend  29.25 -103.25\n",
       "Biscayne  25.65  -80.08"
      ]
     },
     "execution_count": 8,
     "metadata": {},
     "output_type": "execute_result"
    }
   ],
   "source": [
    "# make data frame from dictionary\n",
    "dataframe = pd.DataFrame.from_dict(NPdict).T\n",
    "dataframe.columns = ['Lat', 'Lon']\n",
    "dataframe.head()"
   ]
  },
  {
   "cell_type": "markdown",
   "metadata": {},
   "source": [
    "## Computing Distances\n",
    "\n",
    "### Write Distance Function\n",
    "\n",
    "Computing geodesic distances on Earth's surface is easy enough, especially because [John D. Cook](http://www.johndcook.com/blog/python_longitude_latitude/) wrote such a clear Python script on how to do it. This function replicated from his blog. This function will calculate the distance between Point 1 and Point 2 on the surface of the earth, defined by the points' latitude and longitude. Rather than calculating distance on a flat plane, this function computes spherical distances from the converted coordinates, giving us a more accurate represetation of distances."
   ]
  },
  {
   "cell_type": "code",
   "execution_count": 9,
   "metadata": {
    "collapsed": false
   },
   "outputs": [],
   "source": [
    "# calculate geodesic distances for any set of lat lon values you have\n",
    "# NOTE: this calculates Euclidean distance, not driving distance!!\n",
    "def earthDistance(lat1, lon1, lat2, lon2, radius = 6378.388, unit_miles = False):\n",
    "\n",
    "    \"\"\"\n",
    "    This equation computes distances between two points on Earth's surface specified by lat and lon.\n",
    "    Assume Earth to be a perfect sphere with a given radius (default is 6378.388 km).\n",
    "    Function can output miles or km (default is km).\n",
    "    \n",
    "    Reference\n",
    "    ---------\n",
    "    Adopted from John D. Cook's blog post: http://www.johndcook.com/blog/python_longitude_latitude/\n",
    "    and from Mortada Mehyar's blog post: http://mortada.net/the-traveling-tesla-salesman.html\n",
    "    \"\"\"\n",
    "    \n",
    "    # convert lat and lon to spherical coordinates in radians\n",
    "    deg_to_rad = npy.pi / 180.0\n",
    "    \n",
    "    # phi = 90 - lat\n",
    "    phi1 = (90.0 - lat1) * deg_to_rad\n",
    "    phi2 = (90.0 - lat2) * deg_to_rad\n",
    "    \n",
    "    # theta = longitude\n",
    "    theta1 = lon1 * deg_to_rad\n",
    "    theta2 = lon2 * deg_to_rad\n",
    "    \n",
    "    # compute spherical distance from converted coordinates\n",
    "    cos = (npy.sin(phi1) * npy.sin(phi2) * npy.cos(theta1 - theta2) + npy.cos(phi1) * npy.cos(phi2))\n",
    "    arc = npy.arccos(cos)\n",
    "    length = arc * radius\n",
    "    \n",
    "    if (unit_miles == True):\n",
    "        length = length/1.60934\n",
    "    \n",
    "    return length"
   ]
  },
  {
   "cell_type": "markdown",
   "metadata": {},
   "source": [
    "### Calulate Distances\n",
    "\n",
    "I can now use this function to calculate distances between each National Park. The function will step through a list of National Park names, match the name to the dataframe with latitude and longitude values, and calculate the distances. For example, it will begin with the first park (e.g., Acadia) and calculate the distances between Acadia and all other 43 parks. Next, it will then move onto the second park (e.g., Arches) and calculate the distances between Arches and all other 43 parks. And so on, until the end of the list is reached."
   ]
  },
  {
   "cell_type": "code",
   "execution_count": 10,
   "metadata": {
    "collapsed": false,
    "scrolled": true
   },
   "outputs": [],
   "source": [
    "# make list of park names from dictionary to use in distance calculation\n",
    "dictnames = list(NPdict.keys())\n",
    "distances = {}\n",
    "\n",
    "# calculate distances between each national park\n",
    "for i in range(len(dictnames)): \n",
    "    \n",
    "    # start point\n",
    "    start = dictnames[i]\n",
    "    distances[start] = {}\n",
    "    \n",
    "    for j in range(len(dictnames)):\n",
    "        \n",
    "        # stop point\n",
    "        stop = dictnames[j]\n",
    "        \n",
    "        # the distance is 0 from a point to itself\n",
    "        if j == i:\n",
    "            distances[start][stop] = 0.\n",
    "            \n",
    "        # if the names are different, then the earthDistance() function is used\n",
    "        elif j > i:\n",
    "            \n",
    "            # list names are used to index the lat lon values from the data frame\n",
    "            distances[start][stop] = earthDistance(dataframe.ix[start, 'Lat'], dataframe.ix[start, 'Lon'], dataframe.ix[stop, 'Lat'], dataframe.ix[stop, 'Lon'], unit_miles = True)\n",
    "        \n",
    "        # ensures you don't compute the same distances twice\n",
    "        else:\n",
    "            distances[start][stop] = distances[stop][start]"
   ]
  },
  {
   "cell_type": "markdown",
   "metadata": {},
   "source": [
    "### Data Visualization\n",
    "\n",
    "Now that I've calculated distances between each National Park, it would be nice to get a sense of what that data looks like before proceeding. The `pandas` dataframe is a great way to check out some of the values, and determine if the results are what I would expect. I can see below that Arches National Park is only 161.4439 miles from Bryce Canyon National Park, which is logical given that they are both in Utah. "
   ]
  },
  {
   "cell_type": "code",
   "execution_count": 11,
   "metadata": {
    "collapsed": false
   },
   "outputs": [
    {
     "data": {
      "text/html": [
       "<div>\n",
       "<table border=\"1\" class=\"dataframe\">\n",
       "  <thead>\n",
       "    <tr style=\"text-align: right;\">\n",
       "      <th></th>\n",
       "      <th>Acadia</th>\n",
       "      <th>Arches</th>\n",
       "      <th>Badlands</th>\n",
       "      <th>Big Bend</th>\n",
       "      <th>Biscayne</th>\n",
       "      <th>Black Canyon of the Gunnison</th>\n",
       "      <th>Bryce Canyon</th>\n",
       "      <th>Canyonlands</th>\n",
       "      <th>Capitol Reef</th>\n",
       "      <th>Carlsbad Caverns</th>\n",
       "      <th>...</th>\n",
       "      <th>Rocky Mountain</th>\n",
       "      <th>Saguaro</th>\n",
       "      <th>Sequoia</th>\n",
       "      <th>Shenandoah</th>\n",
       "      <th>Theodore Roosevelt</th>\n",
       "      <th>Voyageurs</th>\n",
       "      <th>Wind Cave</th>\n",
       "      <th>Yellowstone</th>\n",
       "      <th>Yosemite</th>\n",
       "      <th>Zion</th>\n",
       "    </tr>\n",
       "  </thead>\n",
       "  <tbody>\n",
       "    <tr>\n",
       "      <th>Acadia</th>\n",
       "      <td>0.000000</td>\n",
       "      <td>2154.344980</td>\n",
       "      <td>1692.786260</td>\n",
       "      <td>2180.863111</td>\n",
       "      <td>1454.348997</td>\n",
       "      <td>2066.097994</td>\n",
       "      <td>2315.490775</td>\n",
       "      <td>2185.810886</td>\n",
       "      <td>2247.004293</td>\n",
       "      <td>2118.939749</td>\n",
       "      <td>...</td>\n",
       "      <td>1912.270301</td>\n",
       "      <td>2412.494592</td>\n",
       "      <td>2671.414581</td>\n",
       "      <td>661.403350</td>\n",
       "      <td>1698.848031</td>\n",
       "      <td>1205.079631</td>\n",
       "      <td>1743.383057</td>\n",
       "      <td>2063.637648</td>\n",
       "      <td>2667.388082</td>\n",
       "      <td>2366.624788</td>\n",
       "    </tr>\n",
       "    <tr>\n",
       "      <th>Arches</th>\n",
       "      <td>2154.344980</td>\n",
       "      <td>0.000000</td>\n",
       "      <td>507.911668</td>\n",
       "      <td>745.807969</td>\n",
       "      <td>1935.748550</td>\n",
       "      <td>100.264670</td>\n",
       "      <td>161.443975</td>\n",
       "      <td>38.508500</td>\n",
       "      <td>92.828905</td>\n",
       "      <td>534.939683</td>\n",
       "      <td>...</td>\n",
       "      <td>243.808027</td>\n",
       "      <td>447.853734</td>\n",
       "      <td>522.991329</td>\n",
       "      <td>1679.419627</td>\n",
       "      <td>651.617660</td>\n",
       "      <td>1073.279068</td>\n",
       "      <td>463.547120</td>\n",
       "      <td>412.311904</td>\n",
       "      <td>542.315806</td>\n",
       "      <td>212.359977</td>\n",
       "    </tr>\n",
       "    <tr>\n",
       "      <th>Badlands</th>\n",
       "      <td>1692.786260</td>\n",
       "      <td>507.911668</td>\n",
       "      <td>0.000000</td>\n",
       "      <td>1003.871836</td>\n",
       "      <td>1775.768221</td>\n",
       "      <td>449.564958</td>\n",
       "      <td>663.098903</td>\n",
       "      <td>545.424276</td>\n",
       "      <td>593.062825</td>\n",
       "      <td>807.921073</td>\n",
       "      <td>...</td>\n",
       "      <td>280.502668</td>\n",
       "      <td>906.117156</td>\n",
       "      <td>992.171160</td>\n",
       "      <td>1303.594794</td>\n",
       "      <td>227.469704</td>\n",
       "      <td>565.600159</td>\n",
       "      <td>50.598301</td>\n",
       "      <td>401.061475</td>\n",
       "      <td>977.547710</td>\n",
       "      <td>710.900705</td>\n",
       "    </tr>\n",
       "    <tr>\n",
       "      <th>Big Bend</th>\n",
       "      <td>2180.863111</td>\n",
       "      <td>745.807969</td>\n",
       "      <td>1003.871836</td>\n",
       "      <td>0.000000</td>\n",
       "      <td>1441.467071</td>\n",
       "      <td>693.638113</td>\n",
       "      <td>771.928947</td>\n",
       "      <td>728.172291</td>\n",
       "      <td>767.999559</td>\n",
       "      <td>214.021594</td>\n",
       "      <td>...</td>\n",
       "      <td>782.464559</td>\n",
       "      <td>478.198026</td>\n",
       "      <td>1023.266146</td>\n",
       "      <td>1560.682947</td>\n",
       "      <td>1225.803756</td>\n",
       "      <td>1440.818576</td>\n",
       "      <td>990.647833</td>\n",
       "      <td>1133.802009</td>\n",
       "      <td>1106.546397</td>\n",
       "      <td>793.627257</td>\n",
       "    </tr>\n",
       "    <tr>\n",
       "      <th>Biscayne</th>\n",
       "      <td>1454.348997</td>\n",
       "      <td>1935.748550</td>\n",
       "      <td>1775.768221</td>\n",
       "      <td>1441.467071</td>\n",
       "      <td>0.000000</td>\n",
       "      <td>1839.158258</td>\n",
       "      <td>2049.861574</td>\n",
       "      <td>1943.816353</td>\n",
       "      <td>2008.254237</td>\n",
       "      <td>1538.503160</td>\n",
       "      <td>...</td>\n",
       "      <td>1786.020386</td>\n",
       "      <td>1890.139558</td>\n",
       "      <td>2388.139287</td>\n",
       "      <td>896.653423</td>\n",
       "      <td>1952.400765</td>\n",
       "      <td>1725.839127</td>\n",
       "      <td>1807.752143</td>\n",
       "      <td>2142.267314</td>\n",
       "      <td>2446.074127</td>\n",
       "      <td>2091.859813</td>\n",
       "    </tr>\n",
       "  </tbody>\n",
       "</table>\n",
       "<p>5 rows × 45 columns</p>\n",
       "</div>"
      ],
      "text/plain": [
       "               Acadia       Arches     Badlands     Big Bend     Biscayne  \\\n",
       "Acadia       0.000000  2154.344980  1692.786260  2180.863111  1454.348997   \n",
       "Arches    2154.344980     0.000000   507.911668   745.807969  1935.748550   \n",
       "Badlands  1692.786260   507.911668     0.000000  1003.871836  1775.768221   \n",
       "Big Bend  2180.863111   745.807969  1003.871836     0.000000  1441.467071   \n",
       "Biscayne  1454.348997  1935.748550  1775.768221  1441.467071     0.000000   \n",
       "\n",
       "          Black Canyon of the Gunnison  Bryce Canyon  Canyonlands  \\\n",
       "Acadia                     2066.097994   2315.490775  2185.810886   \n",
       "Arches                      100.264670    161.443975    38.508500   \n",
       "Badlands                    449.564958    663.098903   545.424276   \n",
       "Big Bend                    693.638113    771.928947   728.172291   \n",
       "Biscayne                   1839.158258   2049.861574  1943.816353   \n",
       "\n",
       "          Capitol Reef  Carlsbad Caverns     ...       Rocky Mountain  \\\n",
       "Acadia     2247.004293       2118.939749     ...          1912.270301   \n",
       "Arches       92.828905        534.939683     ...           243.808027   \n",
       "Badlands    593.062825        807.921073     ...           280.502668   \n",
       "Big Bend    767.999559        214.021594     ...           782.464559   \n",
       "Biscayne   2008.254237       1538.503160     ...          1786.020386   \n",
       "\n",
       "              Saguaro      Sequoia   Shenandoah  Theodore Roosevelt  \\\n",
       "Acadia    2412.494592  2671.414581   661.403350         1698.848031   \n",
       "Arches     447.853734   522.991329  1679.419627          651.617660   \n",
       "Badlands   906.117156   992.171160  1303.594794          227.469704   \n",
       "Big Bend   478.198026  1023.266146  1560.682947         1225.803756   \n",
       "Biscayne  1890.139558  2388.139287   896.653423         1952.400765   \n",
       "\n",
       "            Voyageurs    Wind Cave  Yellowstone     Yosemite         Zion  \n",
       "Acadia    1205.079631  1743.383057  2063.637648  2667.388082  2366.624788  \n",
       "Arches    1073.279068   463.547120   412.311904   542.315806   212.359977  \n",
       "Badlands   565.600159    50.598301   401.061475   977.547710   710.900705  \n",
       "Big Bend  1440.818576   990.647833  1133.802009  1106.546397   793.627257  \n",
       "Biscayne  1725.839127  1807.752143  2142.267314  2446.074127  2091.859813  \n",
       "\n",
       "[5 rows x 45 columns]"
      ]
     },
     "execution_count": 11,
     "metadata": {},
     "output_type": "execute_result"
    }
   ],
   "source": [
    "# save distances to new dataframe and view values (in miles)\n",
    "distances = pd.DataFrame(distances)\n",
    "distances.head()"
   ]
  },
  {
   "cell_type": "markdown",
   "metadata": {},
   "source": [
    "Some graphs would also be useful in understanding the distribution of distances between parks. Using the matplotlib library, I can create some histograms that show me the distribution of closest and furthest National Parks from each other. While this isn't really necessary for figuring out the shortest route between parks, it is nice to check the distribution of the data and make sure there aren't outliers I missed."
   ]
  },
  {
   "cell_type": "code",
   "execution_count": 12,
   "metadata": {
    "collapsed": false
   },
   "outputs": [
    {
     "data": {
      "text/plain": [
       "<matplotlib.text.Text at 0x116099b00>"
      ]
     },
     "execution_count": 12,
     "metadata": {},
     "output_type": "execute_result"
    },
    {
     "data": {
      "image/png": "[encoded data removed]",
      "text/plain": [
       "<matplotlib.figure.Figure at 0x1134b7128>"
      ]
     },
     "metadata": {},
     "output_type": "display_data"
    }
   ],
   "source": [
    "# data visualization of distance results\n",
    "closestNP = distances[distances > 0].min()\n",
    "cnp = closestNP.hist(bins = 10, color = 'green') # set bins\n",
    "cnp.set_title('Histogram of Closest Distances Between National Parks') # set labels\n",
    "cnp.set_ylabel('Number of National Parks')\n",
    "cnp.set_xlabel('Miles')"
   ]
  },
  {
   "cell_type": "code",
   "execution_count": 13,
   "metadata": {
    "collapsed": false
   },
   "outputs": [
    {
     "data": {
      "text/plain": [
       "<matplotlib.text.Text at 0x118535cf8>"
      ]
     },
     "execution_count": 13,
     "metadata": {},
     "output_type": "execute_result"
    },
    {
     "data": {
      "image/png": "[encoded data removed]",
      "text/plain": [
       "<matplotlib.figure.Figure at 0x1134d6ba8>"
      ]
     },
     "metadata": {},
     "output_type": "display_data"
    }
   ],
   "source": [
    "furthestNP = distances[distances > 0].max()\n",
    "fnp = furthestNP.hist(bins = 10, color = 'green')\n",
    "fnp.set_title('Histogram of Furthest Distances Between National Parks')\n",
    "fnp.set_ylabel('Number of National Parks')\n",
    "fnp.set_xlabel('Miles')"
   ]
  },
  {
   "cell_type": "markdown",
   "metadata": {},
   "source": [
    "## Finding the Optimal Path\n",
    "\n",
    "Here's the tricky part when the code is no longer, er, _technically_ reproducible. We are now ready to write our points to a file that can be used by the [Concorde](http://www.math.uwaterloo.ca/tsp/concorde.html) TSP Solver. Recall that installing the program required some command line work, and also requires that you have a working C compiler. Before using Concorde, I had to install [Xcode](https://itunes.apple.com/us/app/xcode/id497799835?mt=12) for Mac and ensure that the command line tools package was downloaded. \n",
    "\n",
    "All that said, not everyone will have (or want to install) Concorde. Therefore, I've also included a Python script from Mihalo Lalevic's website that solves the TSP with a restricted number of points. Option 1 is the Concorde method, and Option 2 is the brute force method.\n",
    "\n",
    "### Concorde TSP Solver\n",
    "\n",
    "#### Write .tsp File\n",
    "\n",
    "The code below outlines the file format used by Concorde. I first iterate through the list of national park names, matching names to corresponding coordinates that get assigned a unique ID number. This output is the `NODE_COORD_SECTION` of the file, and the number of nodes is the `DIMENSION` of the file. The resulting .tsp file is saved in my current directory."
   ]
  },
  {
   "cell_type": "code",
   "execution_count": 14,
   "metadata": {
    "collapsed": true
   },
   "outputs": [],
   "source": [
    "# NOTE: before running this section, must install QSOPT + Concorde (see: '/Dailey_FinalProject/README.pdf')\n",
    "# write the coordinate values to a .tsp file to use in Concorde\n",
    "node_id = 0\n",
    "output = ''\n",
    "\n",
    "# iterate over park names to make an array of ID, latitude and longitude values\n",
    "for name in dictnames:\n",
    "    output += '%d %f %f\\n' % (node_id, dataframe.ix[name, 'Lat'], dataframe.ix[name, 'Lon'])\n",
    "    node_id += 1\n",
    "\n",
    "# format for .tsp file\n",
    "header = \"\"\"NAME : NP TSP\n",
    "COMMENT : National Park TSP\n",
    "TYPE : TSP\n",
    "DIMENSION : %d\n",
    "EDGE_WEIGHT_TYPE : GEOM\n",
    "NODE_COORD_SECTION \n",
    "\"\"\" % (node_id)\n",
    "\n",
    "# compile results into .tsp file\n",
    "tspfile = os.path.join(outpath, 'nationalparks.tsp')\n",
    "with open(tspfile, 'w') as output_file:\n",
    "    output_file.write(header)\n",
    "    output_file.write(output)"
   ]
  },
  {
   "cell_type": "markdown",
   "metadata": {},
   "source": [
    "#### Run Concorde\n",
    "\n",
    "[This](http://davidsjohnson.net/TSPcourse/mac-install-concorde.txt) was a great set-up tutorial for Concorde in the terminal. To use the .tsp file I've created above with Concorde, use this code on the command line, inputting your name for `<name>` (on Mac OS):\n",
    "> Change the directory to the Concorde TSP folder:\n",
    "\n",
    ">`cd /Users/<name>/Desktop/Dailey_FinalProject/concorde/TSP`\n",
    "\n",
    "> Execute the Concorde program with the full path to the .tsp file:\n",
    "\n",
    ">`./concorde /Users/<name>/Desktop/Dailey_FinalProject/Results/nationalparks.tsp`"
   ]
  },
  {
   "cell_type": "markdown",
   "metadata": {},
   "source": [
    "#### Parse .sol File\n",
    "\n",
    "After running Concorde, a result appears in the Terminal and the corresponding .sol result file is saved to the current directory (in this case, the Concorde/TSP folder). In order to see the results, the .sol file must be parsed and read in Python. "
   ]
  },
  {
   "cell_type": "code",
   "execution_count": 15,
   "metadata": {
    "collapsed": false
   },
   "outputs": [],
   "source": [
    "# import the Concorde .sol file\n",
    "solution_file = os.path.join(path, 'concorde/TSP/nationalparks.sol')\n",
    "\n",
    "# parse the .sol file to get solutions\n",
    "# solutions are a list of ID's that correspond to the order of national parks you would visit\n",
    "solution = []\n",
    "f = open(solution_file, 'r')\n",
    "for line in f.readlines():\n",
    "    tokens = line.split()\n",
    "    solution += [int(c) for c in tokens] \n",
    "f.close()\n",
    "\n",
    "# ensure the solution length is the same as the park names list length\n",
    "assert solution[0] == len(dictnames)\n",
    "\n",
    "# first number in solution is just the dimension (# of nodes), don't need it\n",
    "solution = solution[1:] \n",
    "\n",
    "# check that lengths are the same\n",
    "assert len(solution) == len(dictnames)"
   ]
  },
  {
   "cell_type": "markdown",
   "metadata": {},
   "source": [
    "Now that the solutions have been parsed, I can match the unique ID's for each national park to its corresponding name. Then, I append the solutions into a list and check out the order of national parks I will be visiting! Below, I also double check that I am starting and stopping at the same national park, by changing the list into a `Series` and checking the `head()` and `tail()`. "
   ]
  },
  {
   "cell_type": "code",
   "execution_count": 16,
   "metadata": {
    "collapsed": false
   },
   "outputs": [
    {
     "data": {
      "text/plain": [
       "0            Sequoia\n",
       "1          Pinnacles\n",
       "2           Yosemite\n",
       "3    Lassen Volcanic\n",
       "4            Redwood\n",
       "dtype: object"
      ]
     },
     "execution_count": 16,
     "metadata": {},
     "output_type": "execute_result"
    }
   ],
   "source": [
    "# append solutions into a list\n",
    "optimal_path = []\n",
    "for solution_id in solution:\n",
    "    optimal_path.append(dictnames[solution_id])\n",
    "    \n",
    "# make sure the path starts and ends at the same national park\n",
    "optimal_path.append(dictnames[solution[0]])\n",
    "\n",
    "# reformat into a series for cleaner visualization\n",
    "optimal_path_series = pd.Series(optimal_path)\n",
    "\n",
    "# check that the first and last national parks are the same\n",
    "optimal_path_series.head()"
   ]
  },
  {
   "cell_type": "code",
   "execution_count": 17,
   "metadata": {
    "collapsed": false
   },
   "outputs": [
    {
     "data": {
      "text/plain": [
       "41    Grand Canyon\n",
       "42     Joshua Tree\n",
       "43    Death Valley\n",
       "44    Kings Canyon\n",
       "45         Sequoia\n",
       "dtype: object"
      ]
     },
     "execution_count": 17,
     "metadata": {},
     "output_type": "execute_result"
    }
   ],
   "source": [
    "optimal_path_series.tail()"
   ]
  },
  {
   "cell_type": "markdown",
   "metadata": {},
   "source": [
    "### Calculate Total TSP Distance\n",
    "\n",
    "I can also calculate the total distance of my road trip (except that this is Euclidean distance, so it would actually be my flight path between national parks). To do highway distances is a whole other bag of tricks that I am not able to do yet..."
   ]
  },
  {
   "cell_type": "code",
   "execution_count": 18,
   "metadata": {
    "collapsed": false
   },
   "outputs": [
    {
     "data": {
      "text/plain": [
       "10959.222975372008"
      ]
     },
     "execution_count": 18,
     "metadata": {},
     "output_type": "execute_result"
    }
   ],
   "source": [
    "# find the total distance of the optimal path\n",
    "total_dist = 0\n",
    "for i in range(len(optimal_path) - 1):\n",
    "    total_dist += distances.ix[optimal_path[i], optimal_path[i + 1]]\n",
    "total_dist\n",
    "\n",
    "# total distance should be 10959.222 miles"
   ]
  },
  {
   "cell_type": "markdown",
   "metadata": {},
   "source": [
    "# Web Mapping\n",
    "\n",
    "I successfully found the most efficient route (based on Euclidean distance) and found how many miles my trip will be! The next step is to view the trip on a map. I decided to use [Leaflet](http://leafletjs.com) because I dig open source and have wanted to learn how to use it. Leaflet also enables you to use [background maps](https://leaflet-extras.github.io/leaflet-providers/preview/index.html) from the awesome cartographers at [Stamen](http://stamen.com), [OpenStreetMap](https://www.openstreetmap.org/#map=5/37.996/-100.876), and others. I found it easier to use and easier to manipulate than the Google Maps Directions API. Personal preference.\n",
    "\n",
    "## Leaflet\n",
    "\n",
    "Leaflet uses JavaScript to create and manipulate web maps. While I am no JS expert, I worked on the [Codecademy](https://www.codecademy.com/learn/javascript) tutorial for JS and was able to write a script that displays my map. Before writing the Leaflet script, however, I have to put the ordered national park names and their coordinates into a list that can be used in JS. It's important that my TSP solution is in a list, so that the order does not change! \n",
    "\n",
    "## Writing to GeoJSON\n",
    "\n",
    "There are some very helpful tools out there to write a GeoJSON file from a Python dictionary. I created the `tsp_point.json` and the `tsp_line.json` files in two different ways: \n",
    "\n",
    "* A `for` loop, which is great for specific manipulation of properties\n",
    "* Or using the `geojson` Python module, which is a great quick and dirty version \n",
    "\n",
    "### `for` loop\n",
    "\n",
    "To structure the `for` loop, I used this [this](http://thirdlanding.com/using-python-to-create-a-geojson-file-from-a-database-containing-lats-and-longs/) script as a template. It helped structure my Python list of coordinates into a nicely formatted FeatureCollection GeoJSON file. I found it easier to manipulate the properties of my .json file using this method, which produced nice pop-ups in the final map."
   ]
  },
  {
   "cell_type": "code",
   "execution_count": 19,
   "metadata": {
    "collapsed": false
   },
   "outputs": [],
   "source": [
    "# extract coordinates and names from the pandas dataframe\n",
    "TSP_coords = []\n",
    "for name in optimal_path:\n",
    "    TSP_coords += [[dataframe.ix[name, 'Lon'], dataframe.ix[name, 'Lat'], name]]\n",
    "\n",
    "#gjson will be the main dictionary converted to .json format\n",
    "gjsonpoint_dict = {}\n",
    "gjsonpoint_dict[\"type\"] = \"FeatureCollection\"\n",
    "feat_list = []\n",
    "\n",
    "# loop through all points, building a list entry which is a dictionary\n",
    "for coords in TSP_coords:\n",
    "    # each of these dictionaries has within it nested a type dict, \n",
    "    # which contains a point dict and properties dict\n",
    "    type_dict = {}\n",
    "    point_dict = {}\n",
    "    prop_dict = {}\n",
    "    \n",
    "    type_dict[\"type\"] = \"Feature\"\n",
    "    point_dict[\"type\"] = \"Point\"\n",
    "    type_dict[\"geometry\"] = mapping(Point(coords[0],coords[1]))\n",
    "    \n",
    "    prop_dict[\"Name\"] = coords[2]\n",
    "    type_dict[\"properties\"] = prop_dict\n",
    "    feat_list.append(type_dict)\n",
    "    \n",
    "gjsonpoint_dict[\"features\"] = feat_list\n",
    "\n",
    "# write the resulting dictionary to a .json file that outputs in the Results folder\n",
    "points_path = os.path.join(outpath, 'tsp_point.json')\n",
    "with open(points_path, 'w') as outfile:\n",
    "    json.dump(gjsonpoint_dict, outfile, sort_keys = True, indent = 4, ensure_ascii = False)  "
   ]
  },
  {
   "cell_type": "markdown",
   "metadata": {},
   "source": [
    "### `geojson` module\n",
    "\n",
    "Using the `geojson` module was even easier, and only required me to input the coordinates as a list of tuples before writing the file. The code is much shorter, but was more difficult to manipulate if I needed to change properties or types of elements within the .json file."
   ]
  },
  {
   "cell_type": "code",
   "execution_count": 20,
   "metadata": {
    "collapsed": false
   },
   "outputs": [],
   "source": [
    "# extract only coordinates as list of tuples from the pandas dataframe\n",
    "coordinates = []\n",
    "for name in optimal_path:\n",
    "    coordinates += [(dataframe.ix[name, 'Lon'], dataframe.ix[name, 'Lat'])]\n",
    "\n",
    "# use geojson LineString method to create .json polyline file\n",
    "gjsonline_dict = LineString(coordinates)\n",
    "\n",
    "# as above, write the result to a .json file that outputs in the Results folder\n",
    "line_path = os.path.join(outpath, 'tsp_line.json')\n",
    "with open(line_path, 'w') as outfile:\n",
    "    json.dump(gjsonline_dict, outfile, sort_keys = True, indent = 4, ensure_ascii = False)"
   ]
  },
  {
   "cell_type": "markdown",
   "metadata": {},
   "source": [
    "# Final Map\n",
    "\n",
    "If you've run everything above, you should see the following file structure in the `Dailey_FinalProject/Results` folder:\n",
    "\n",
    "> `nationalparks.tsp`\n",
    "\n",
    "> `TSP_LeafletMap.html`\n",
    "\n",
    "> `tsp_line.json`\n",
    "\n",
    "> `tsp_point.json`\n",
    "\n",
    "If you double click on the `TSP_LeafletMap.html`, a web map will open with the final result with the Euclidean distance map. It should look exactly like the image below.\n",
    "\n",
    "Congratulations! You solved the Traveling Salesman Problem!"
   ]
  }
 ],
 "metadata": {
  "kernelspec": {
   "display_name": "Python 3",
   "language": "python",
   "name": "python3"
  },
  "language_info": {
   "codemirror_mode": {
    "name": "ipython",
    "version": 3
   },
   "file_extension": ".py",
   "mimetype": "text/x-python",
   "name": "python",
   "nbconvert_exporter": "python",
   "pygments_lexer": "ipython3",
   "version": "3.5.1"
  }
 },
 "nbformat": 4,
 "nbformat_minor": 0
}
